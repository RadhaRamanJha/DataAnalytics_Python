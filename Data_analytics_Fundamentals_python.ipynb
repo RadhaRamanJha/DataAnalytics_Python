{
 "cells": [
  {
   "cell_type": "markdown",
   "id": "f2dddc58",
   "metadata": {},
   "source": [
    "## Import Necessary Libraries"
   ]
  },
  {
   "cell_type": "code",
   "execution_count": 1,
   "id": "d937cc01",
   "metadata": {},
   "outputs": [],
   "source": [
    "import pandas as pd # For Dataframe utilities\n",
    "import numpy as np  # Numpy is numerical python\n",
    "import matplotlib.pyplot as plt"
   ]
  },
  {
   "cell_type": "code",
   "execution_count": 2,
   "id": "3a8ffd73",
   "metadata": {},
   "outputs": [],
   "source": [
    "df = pd.read_csv(\"../Data/gapminder-FiveYearData.csv\")\n",
    "# csv file - pd.read_csv(Location of data)\n",
    "# excel file - pd.read_excel(Location of data)\n",
    "# In the location of Data remove forward slash by back slash"
   ]
  },
  {
   "cell_type": "code",
   "execution_count": 3,
   "id": "f9387fec",
   "metadata": {
    "scrolled": true
   },
   "outputs": [
    {
     "name": "stdout",
     "output_type": "stream",
     "text": [
      "       country  year         pop continent  lifeExp   gdpPercap\n",
      "0  Afghanistan  1952   8425333.0      Asia   28.801  779.445314\n",
      "1  Afghanistan  1957   9240934.0      Asia   30.332  820.853030\n",
      "2  Afghanistan  1962  10267083.0      Asia   31.997  853.100710\n",
      "3  Afghanistan  1967  11537966.0      Asia   34.020  836.197138\n",
      "4  Afghanistan  1972  13079460.0      Asia   36.088  739.981106\n"
     ]
    }
   ],
   "source": [
    "print(df.head()) # Returns First 5 entries of data frame (headings of a file)"
   ]
  },
  {
   "cell_type": "markdown",
   "id": "d3a5c8d2",
   "metadata": {},
   "source": [
    "#### Row is starting from 0 "
   ]
  },
  {
   "cell_type": "code",
   "execution_count": 4,
   "id": "f82ffa50",
   "metadata": {},
   "outputs": [
    {
     "name": "stdout",
     "output_type": "stream",
     "text": [
      "       country  year         pop continent  lifeExp   gdpPercap\n",
      "1699  Zimbabwe  1987   9216418.0    Africa   62.351  706.157306\n",
      "1700  Zimbabwe  1992  10704340.0    Africa   60.377  693.420786\n",
      "1701  Zimbabwe  1997  11404948.0    Africa   46.809  792.449960\n",
      "1702  Zimbabwe  2002  11926563.0    Africa   39.989  672.038623\n",
      "1703  Zimbabwe  2007  12311143.0    Africa   43.487  469.709298\n"
     ]
    }
   ],
   "source": [
    "print(df.tail()) # Returns last 5 data \n",
    "# last n data tuples if n is possitive\n",
    "# all but first n data tuples if n is negative"
   ]
  },
  {
   "cell_type": "code",
   "execution_count": 5,
   "id": "78a5f1aa",
   "metadata": {},
   "outputs": [
    {
     "name": "stdout",
     "output_type": "stream",
     "text": [
      "(1704, 6)\n"
     ]
    }
   ],
   "source": [
    "print(df.shape) # Return the number of (rows, columns) as at tuple"
   ]
  },
  {
   "cell_type": "code",
   "execution_count": 6,
   "id": "308bd72a",
   "metadata": {},
   "outputs": [
    {
     "name": "stdout",
     "output_type": "stream",
     "text": [
      "Index(['country', 'year', 'pop', 'continent', 'lifeExp', 'gdpPercap'], dtype='object')\n"
     ]
    }
   ],
   "source": [
    "print(df.columns) # Return name of all the columns present in DataFrame"
   ]
  },
  {
   "cell_type": "code",
   "execution_count": 7,
   "id": "b930f9e5",
   "metadata": {},
   "outputs": [
    {
     "name": "stdout",
     "output_type": "stream",
     "text": [
      "country       object\n",
      "year           int64\n",
      "pop          float64\n",
      "continent     object\n",
      "lifeExp      float64\n",
      "gdpPercap    float64\n",
      "dtype: object\n"
     ]
    }
   ],
   "source": [
    "print(df.dtypes) # Return the datatype of each columns of dataframe"
   ]
  },
  {
   "cell_type": "code",
   "execution_count": 8,
   "id": "9963a497",
   "metadata": {
    "scrolled": true
   },
   "outputs": [
    {
     "name": "stdout",
     "output_type": "stream",
     "text": [
      "<class 'pandas.core.frame.DataFrame'>\n",
      "RangeIndex: 1704 entries, 0 to 1703\n",
      "Data columns (total 6 columns):\n",
      " #   Column     Non-Null Count  Dtype  \n",
      "---  ------     --------------  -----  \n",
      " 0   country    1704 non-null   object \n",
      " 1   year       1704 non-null   int64  \n",
      " 2   pop        1704 non-null   float64\n",
      " 3   continent  1704 non-null   object \n",
      " 4   lifeExp    1704 non-null   float64\n",
      " 5   gdpPercap  1704 non-null   float64\n",
      "dtypes: float64(3), int64(1), object(2)\n",
      "memory usage: 80.0+ KB\n"
     ]
    }
   ],
   "source": [
    "df.info()\n",
    "# Returns class, number of columns, data type of all columns, number of column for each datatype\n",
    "# non-null count per column, total number of column of each datatype, memory usage for dataframe"
   ]
  },
  {
   "cell_type": "code",
   "execution_count": 9,
   "id": "dc9ed6c0",
   "metadata": {},
   "outputs": [
    {
     "name": "stdout",
     "output_type": "stream",
     "text": [
      "0       Afghanistan\n",
      "1       Afghanistan\n",
      "2       Afghanistan\n",
      "3       Afghanistan\n",
      "4       Afghanistan\n",
      "           ...     \n",
      "1699       Zimbabwe\n",
      "1700       Zimbabwe\n",
      "1701       Zimbabwe\n",
      "1702       Zimbabwe\n",
      "1703       Zimbabwe\n",
      "Name: country, Length: 1704, dtype: object\n"
     ]
    }
   ],
   "source": [
    "country_df = df['country'] # Looking at Specific columns\n",
    "print(country_df)"
   ]
  },
  {
   "cell_type": "markdown",
   "id": "b97a3082",
   "metadata": {},
   "source": [
    "#### All dataframe attribuites and methods can be used for the resultant series  "
   ]
  },
  {
   "cell_type": "code",
   "execution_count": 10,
   "id": "63828945",
   "metadata": {},
   "outputs": [
    {
     "name": "stdout",
     "output_type": "stream",
     "text": [
      "0    Afghanistan\n",
      "1    Afghanistan\n",
      "2    Afghanistan\n",
      "3    Afghanistan\n",
      "4    Afghanistan\n",
      "Name: country, dtype: object\n"
     ]
    }
   ],
   "source": [
    "print(country_df.head()) # first 5 rows of country"
   ]
  },
  {
   "cell_type": "code",
   "execution_count": 11,
   "id": "38ec7446",
   "metadata": {},
   "outputs": [
    {
     "name": "stdout",
     "output_type": "stream",
     "text": [
      "1699    Zimbabwe\n",
      "1700    Zimbabwe\n",
      "1701    Zimbabwe\n",
      "1702    Zimbabwe\n",
      "1703    Zimbabwe\n",
      "Name: country, dtype: object\n"
     ]
    }
   ],
   "source": [
    "print(country_df.tail()) # Last 5 rows"
   ]
  },
  {
   "cell_type": "code",
   "execution_count": 12,
   "id": "d365be5b",
   "metadata": {},
   "outputs": [
    {
     "name": "stdout",
     "output_type": "stream",
     "text": [
      "4       Afghanistan\n",
      "5       Afghanistan\n",
      "6       Afghanistan\n",
      "7       Afghanistan\n",
      "8       Afghanistan\n",
      "           ...     \n",
      "1699       Zimbabwe\n",
      "1700       Zimbabwe\n",
      "1701       Zimbabwe\n",
      "1702       Zimbabwe\n",
      "1703       Zimbabwe\n",
      "Name: country, Length: 1700, dtype: object\n"
     ]
    }
   ],
   "source": [
    "print(country_df.tail(-4)) # all but first 4 data tuples"
   ]
  },
  {
   "cell_type": "code",
   "execution_count": 13,
   "id": "630067f2",
   "metadata": {},
   "outputs": [
    {
     "name": "stdout",
     "output_type": "stream",
     "text": [
      "       country continent  year\n",
      "0  Afghanistan      Asia  1952\n",
      "1  Afghanistan      Asia  1957\n",
      "2  Afghanistan      Asia  1962\n",
      "3  Afghanistan      Asia  1967\n",
      "4  Afghanistan      Asia  1972\n"
     ]
    }
   ],
   "source": [
    "subset = df[['country','continent','year']] # We are able to fetcch specic part of the data frame\n",
    "print(subset.head()) # Note more than one columns is provided as a list"
   ]
  },
  {
   "cell_type": "code",
   "execution_count": 14,
   "id": "c3cb1dc0",
   "metadata": {},
   "outputs": [
    {
     "name": "stdout",
     "output_type": "stream",
     "text": [
      "       country continent  year\n",
      "1699  Zimbabwe    Africa  1987\n",
      "1700  Zimbabwe    Africa  1992\n",
      "1701  Zimbabwe    Africa  1997\n",
      "1702  Zimbabwe    Africa  2002\n",
      "1703  Zimbabwe    Africa  2007\n"
     ]
    }
   ],
   "source": [
    "print(subset.tail())"
   ]
  },
  {
   "cell_type": "markdown",
   "id": "23460f4c",
   "metadata": {},
   "source": [
    "## Subset by index label: loc"
   ]
  },
  {
   "cell_type": "code",
   "execution_count": 15,
   "id": "37b0a3ff",
   "metadata": {},
   "outputs": [
    {
     "name": "stdout",
     "output_type": "stream",
     "text": [
      "country      Afghanistan\n",
      "year                1952\n",
      "pop            8425333.0\n",
      "continent           Asia\n",
      "lifeExp           28.801\n",
      "gdpPercap     779.445314\n",
      "Name: 0, dtype: object\n"
     ]
    }
   ],
   "source": [
    "print(df.loc[0]) # Access 1st entry/row"
   ]
  },
  {
   "cell_type": "code",
   "execution_count": 16,
   "id": "fa4d6297",
   "metadata": {},
   "outputs": [
    {
     "name": "stdout",
     "output_type": "stream",
     "text": [
      "country      Bangladesh\n",
      "year               1967\n",
      "pop          62821884.0\n",
      "continent          Asia\n",
      "lifeExp          43.453\n",
      "gdpPercap    721.186086\n",
      "Name: 99, dtype: object\n"
     ]
    }
   ],
   "source": [
    "print(df.loc[99]) # Access 100th row/entry"
   ]
  },
  {
   "cell_type": "markdown",
   "id": "b60bd35e",
   "metadata": {},
   "source": [
    "## Select the first, 100th and 1000th rows of dataframe"
   ]
  },
  {
   "cell_type": "code",
   "execution_count": 17,
   "id": "4dbe3ffd",
   "metadata": {},
   "outputs": [
    {
     "name": "stdout",
     "output_type": "stream",
     "text": [
      "         country  year         pop continent  lifeExp    gdpPercap\n",
      "0    Afghanistan  1952   8425333.0      Asia   28.801   779.445314\n",
      "99    Bangladesh  1967  62821884.0      Asia   43.453   721.186086\n",
      "999     Mongolia  1967   1149500.0      Asia   51.253  1226.041130\n"
     ]
    }
   ],
   "source": [
    "print(df.loc[[0,99,999]]) # NOTE - using list of list to get multiple rows"
   ]
  },
  {
   "cell_type": "markdown",
   "id": "f31964cc",
   "metadata": {},
   "source": [
    "## Select the last and second last row of the dataframe"
   ]
  },
  {
   "cell_type": "code",
   "execution_count": 18,
   "id": "096b387c",
   "metadata": {},
   "outputs": [
    {
     "name": "stdout",
     "output_type": "stream",
     "text": [
      "country      Afghanistan\n",
      "year                1957\n",
      "pop            9240934.0\n",
      "continent           Asia\n",
      "lifeExp           30.332\n",
      "gdpPercap      820.85303\n",
      "Name: 1, dtype: object\n"
     ]
    }
   ],
   "source": [
    "print(df.iloc[1])"
   ]
  },
  {
   "cell_type": "code",
   "execution_count": 19,
   "id": "a84a772d",
   "metadata": {},
   "outputs": [
    {
     "name": "stdout",
     "output_type": "stream",
     "text": [
      "country      Bangladesh\n",
      "year               1967\n",
      "pop          62821884.0\n",
      "continent          Asia\n",
      "lifeExp          43.453\n",
      "gdpPercap    721.186086\n",
      "Name: 99, dtype: object\n"
     ]
    }
   ],
   "source": [
    "print(df.iloc[99])"
   ]
  },
  {
   "cell_type": "code",
   "execution_count": 20,
   "id": "2645e4a8",
   "metadata": {},
   "outputs": [
    {
     "name": "stdout",
     "output_type": "stream",
     "text": [
      "country        Zimbabwe\n",
      "year               2007\n",
      "pop          12311143.0\n",
      "continent        Africa\n",
      "lifeExp          43.487\n",
      "gdpPercap    469.709298\n",
      "Name: 1703, dtype: object\n"
     ]
    }
   ],
   "source": [
    "print(df.iloc[-1]) # this notation (negative number) can be used in iloc only "
   ]
  },
  {
   "cell_type": "code",
   "execution_count": 22,
   "id": "b21cc097",
   "metadata": {},
   "outputs": [],
   "source": [
    "# print(df.loc[-2])  # Using loc will result in error if the number is negative"
   ]
  },
  {
   "cell_type": "markdown",
   "id": "9421281a",
   "metadata": {},
   "source": [
    "## To get 1st, 100 th and 1000 th row of the data frame using iloc"
   ]
  },
  {
   "cell_type": "code",
   "execution_count": 24,
   "id": "2b63d33a",
   "metadata": {},
   "outputs": [
    {
     "name": "stdout",
     "output_type": "stream",
     "text": [
      "country      Bangladesh\n",
      "year               1967\n",
      "pop          62821884.0\n",
      "continent          Asia\n",
      "lifeExp          43.453\n",
      "gdpPercap    721.186086\n",
      "Name: 99, dtype: object\n"
     ]
    }
   ],
   "source": [
    "print(df.iloc[99]) # 100 th row"
   ]
  },
  {
   "cell_type": "code",
   "execution_count": 25,
   "id": "1d36132b",
   "metadata": {},
   "outputs": [
    {
     "name": "stdout",
     "output_type": "stream",
     "text": [
      "country        Zimbabwe\n",
      "year               2007\n",
      "pop          12311143.0\n",
      "continent        Africa\n",
      "lifeExp          43.487\n",
      "gdpPercap    469.709298\n",
      "Name: 1703, dtype: object\n"
     ]
    }
   ],
   "source": [
    "print(df.iloc[-1]) # 1st row"
   ]
  },
  {
   "cell_type": "code",
   "execution_count": 23,
   "id": "dc48135d",
   "metadata": {
    "scrolled": false
   },
   "outputs": [
    {
     "name": "stdout",
     "output_type": "stream",
     "text": [
      "         country  year         pop continent  lifeExp    gdpPercap\n",
      "0    Afghanistan  1952   8425333.0      Asia   28.801   779.445314\n",
      "99    Bangladesh  1967  62821884.0      Asia   43.453   721.186086\n",
      "999     Mongolia  1967   1149500.0      Asia   51.253  1226.041130\n"
     ]
    }
   ],
   "source": [
    "print(df.iloc[[0,99,999]]) # Willl get 1st, 10th and 1000th row"
   ]
  },
  {
   "cell_type": "markdown",
   "id": "7fa1c619",
   "metadata": {},
   "source": [
    "## To get all the rows of the subset say, 'country', 'lifeExp' and gdpPercap using loc"
   ]
  },
  {
   "cell_type": "code",
   "execution_count": 26,
   "id": "6d047784",
   "metadata": {},
   "outputs": [
    {
     "name": "stdout",
     "output_type": "stream",
     "text": [
      "   year         pop\n",
      "0  1952   8425333.0\n",
      "1  1957   9240934.0\n",
      "2  1962  10267083.0\n",
      "3  1967  11537966.0\n",
      "4  1972  13079460.0\n"
     ]
    }
   ],
   "source": [
    "subset = df.loc[:,['year','pop']] # This is why loc is generally prefered\n",
    "print(subset.head())# we can Identify the column we getting by names"
   ]
  },
  {
   "cell_type": "markdown",
   "id": "b4914493",
   "metadata": {},
   "source": [
    "## iloc can also be used to access the columns based in their integer location\n",
    "\n",
    "### e.g. to access the last, third and fourth column of the data frame"
   ]
  },
  {
   "cell_type": "code",
   "execution_count": 27,
   "id": "60b1eebc",
   "metadata": {},
   "outputs": [
    {
     "name": "stdout",
     "output_type": "stream",
     "text": [
      "          pop  lifeExp   gdpPercap\n",
      "0   8425333.0   28.801  779.445314\n",
      "1   9240934.0   30.332  820.853030\n",
      "2  10267083.0   31.997  853.100710\n",
      "3  11537966.0   34.020  836.197138\n",
      "4  13079460.0   36.088  739.981106\n"
     ]
    }
   ],
   "source": [
    "subset = df.iloc[:,[2,4,-1]]\n",
    "print(subset.head())"
   ]
  },
  {
   "cell_type": "markdown",
   "id": "33c214ac",
   "metadata": {},
   "source": [
    "## Subset of the DataFrame can also be prepared using the range object"
   ]
  },
  {
   "cell_type": "code",
   "execution_count": 28,
   "id": "e14b7ecc",
   "metadata": {},
   "outputs": [
    {
     "name": "stdout",
     "output_type": "stream",
     "text": [
      "[0, 1, 2, 3, 4]\n"
     ]
    }
   ],
   "source": [
    "small_range = list(range(5))\n",
    "print(small_range)"
   ]
  },
  {
   "cell_type": "code",
   "execution_count": 30,
   "id": "0d378ecb",
   "metadata": {},
   "outputs": [
    {
     "name": "stdout",
     "output_type": "stream",
     "text": [
      "       country  year         pop continent  lifeExp\n",
      "0  Afghanistan  1952   8425333.0      Asia   28.801\n",
      "1  Afghanistan  1957   9240934.0      Asia   30.332\n",
      "2  Afghanistan  1962  10267083.0      Asia   31.997\n",
      "3  Afghanistan  1967  11537966.0      Asia   34.020\n",
      "4  Afghanistan  1972  13079460.0      Asia   36.088\n"
     ]
    }
   ],
   "source": [
    "subset = df.iloc[:,small_range]\n",
    "print(subset.head()) # This small_range can be used to get 1, 2, 3, 4 and first 5 rows"
   ]
  },
  {
   "cell_type": "markdown",
   "id": "1839c99f",
   "metadata": {},
   "source": [
    "## Subseting using column and row"
   ]
  },
  {
   "cell_type": "code",
   "execution_count": 31,
   "id": "543dc221",
   "metadata": {},
   "outputs": [
    {
     "name": "stdout",
     "output_type": "stream",
     "text": [
      "[3, 5]\n"
     ]
    }
   ],
   "source": [
    "kite = list(range(3,7,2))\n",
    "print(kite)"
   ]
  },
  {
   "cell_type": "code",
   "execution_count": 32,
   "id": "9cd0f8ac",
   "metadata": {},
   "outputs": [
    {
     "name": "stdout",
     "output_type": "stream",
     "text": [
      "  continent   gdpPercap\n",
      "0      Asia  779.445314\n",
      "1      Asia  820.853030\n",
      "2      Asia  853.100710\n",
      "3      Asia  836.197138\n",
      "4      Asia  739.981106\n"
     ]
    }
   ],
   "source": [
    "subset = df.iloc[:,kite]\n",
    "print(subset.head())"
   ]
  },
  {
   "cell_type": "code",
   "execution_count": 33,
   "id": "27bd0abc",
   "metadata": {},
   "outputs": [
    {
     "name": "stdout",
     "output_type": "stream",
     "text": [
      "  continent   gdpPercap\n",
      "3      Asia  836.197138\n",
      "5      Asia  786.113360\n"
     ]
    }
   ],
   "source": [
    "subset = df.iloc[kite,kite]\n",
    "print(subset.head())"
   ]
  },
  {
   "cell_type": "markdown",
   "id": "267a3aaf",
   "metadata": {},
   "source": [
    "### loc and iloc can also be used to extract a single column"
   ]
  },
  {
   "cell_type": "code",
   "execution_count": 34,
   "id": "2cf3983f",
   "metadata": {},
   "outputs": [
    {
     "name": "stdout",
     "output_type": "stream",
     "text": [
      "Australia\n"
     ]
    }
   ],
   "source": [
    "print(df.loc[62,'country'])"
   ]
  },
  {
   "cell_type": "code",
   "execution_count": 35,
   "id": "64541e45",
   "metadata": {},
   "outputs": [
    {
     "name": "stdout",
     "output_type": "stream",
     "text": [
      "Angola\n"
     ]
    }
   ],
   "source": [
    "print(df.iloc[42,0])"
   ]
  },
  {
   "cell_type": "code",
   "execution_count": 36,
   "id": "5dfb8f9e",
   "metadata": {},
   "outputs": [
    {
     "name": "stdout",
     "output_type": "stream",
     "text": [
      "       country  year\n",
      "1  Afghanistan  1957\n",
      "2  Afghanistan  1962\n",
      "3  Afghanistan  1967\n"
     ]
    }
   ],
   "source": [
    "print(df.loc[1:3,['country','year']])"
   ]
  },
  {
   "cell_type": "markdown",
   "id": "ce2073e6",
   "metadata": {},
   "source": [
    "## using iloc\n",
    "\n",
    "### Eg :- Extracts the 1 and 2 row with 1 and 2 nd column"
   ]
  },
  {
   "cell_type": "code",
   "execution_count": 37,
   "id": "dcddbaf7",
   "metadata": {},
   "outputs": [
    {
     "name": "stdout",
     "output_type": "stream",
     "text": [
      "   year         pop\n",
      "1  1957   9240934.0\n",
      "2  1962  10267083.0\n"
     ]
    }
   ],
   "source": [
    "print(df.iloc[1:3,1:3])"
   ]
  },
  {
   "cell_type": "code",
   "execution_count": 38,
   "id": "103994dc",
   "metadata": {},
   "outputs": [
    {
     "name": "stdout",
     "output_type": "stream",
     "text": [
      "         country continent    gdpPercap\n",
      "0    Afghanistan      Asia   779.445314\n",
      "99    Bangladesh      Asia   721.186086\n",
      "999     Mongolia      Asia  1226.041130\n"
     ]
    }
   ],
   "source": [
    "print(df.iloc[[0, 99, 999], [0, 3, 5]])"
   ]
  },
  {
   "cell_type": "markdown",
   "id": "41761e41",
   "metadata": {},
   "source": [
    "## If we use the column names correctly, it makes the code a bit easier to read \n",
    "## but now we have to use loc in place of iloc"
   ]
  },
  {
   "cell_type": "code",
   "execution_count": 39,
   "id": "bb8c5877",
   "metadata": {},
   "outputs": [
    {
     "name": "stdout",
     "output_type": "stream",
     "text": [
      "         country  lifeExp    gdpPercap\n",
      "0    Afghanistan   28.801   779.445314\n",
      "99    Bangladesh   43.453   721.186086\n",
      "999     Mongolia   51.253  1226.041130\n"
     ]
    }
   ],
   "source": [
    "print(df.loc[[ 0, 99, 999],[\"country\", \"lifeExp\", \"gdpPercap\"]])"
   ]
  },
  {
   "cell_type": "code",
   "execution_count": 42,
   "id": "1d57d263",
   "metadata": {},
   "outputs": [
    {
     "name": "stdout",
     "output_type": "stream",
     "text": [
      "    country  lifeExp    gdpPercap\n",
      "13  Albania    59.28  1942.284244\n",
      "14  Albania    64.82  2312.888958\n",
      "15  Albania    66.22  2760.196931\n",
      "16  Albania    67.69  3313.422188\n"
     ]
    }
   ],
   "source": [
    "print(df.loc[13:16,[\"country\", \"lifeExp\", \"gdpPercap\"]])"
   ]
  },
  {
   "cell_type": "markdown",
   "id": "e3f3b935",
   "metadata": {},
   "source": [
    "## Grouped Means"
   ]
  },
  {
   "cell_type": "markdown",
   "id": "b6b40149",
   "metadata": {},
   "source": [
    "## Detail Description of below function to be written 19/05/2025"
   ]
  },
  {
   "cell_type": "code",
   "execution_count": 44,
   "id": "40e97bcf",
   "metadata": {},
   "outputs": [
    {
     "data": {
      "text/html": [
       "<div>\n",
       "<style scoped>\n",
       "    .dataframe tbody tr th:only-of-type {\n",
       "        vertical-align: middle;\n",
       "    }\n",
       "\n",
       "    .dataframe tbody tr th {\n",
       "        vertical-align: top;\n",
       "    }\n",
       "\n",
       "    .dataframe thead tr th {\n",
       "        text-align: left;\n",
       "    }\n",
       "\n",
       "    .dataframe thead tr:last-of-type th {\n",
       "        text-align: right;\n",
       "    }\n",
       "</style>\n",
       "<table border=\"1\" class=\"dataframe\">\n",
       "  <thead>\n",
       "    <tr>\n",
       "      <th></th>\n",
       "      <th colspan=\"2\" halign=\"left\">lifeExp</th>\n",
       "      <th colspan=\"2\" halign=\"left\">gdpPercap</th>\n",
       "    </tr>\n",
       "    <tr>\n",
       "      <th></th>\n",
       "      <th>max</th>\n",
       "      <th>min</th>\n",
       "      <th>max</th>\n",
       "      <th>min</th>\n",
       "    </tr>\n",
       "    <tr>\n",
       "      <th>continent</th>\n",
       "      <th></th>\n",
       "      <th></th>\n",
       "      <th></th>\n",
       "      <th></th>\n",
       "    </tr>\n",
       "  </thead>\n",
       "  <tbody>\n",
       "    <tr>\n",
       "      <th>Africa</th>\n",
       "      <td>76.442</td>\n",
       "      <td>23.599</td>\n",
       "      <td>21951.21176</td>\n",
       "      <td>241.165876</td>\n",
       "    </tr>\n",
       "    <tr>\n",
       "      <th>Americas</th>\n",
       "      <td>80.653</td>\n",
       "      <td>37.579</td>\n",
       "      <td>42951.65309</td>\n",
       "      <td>1201.637154</td>\n",
       "    </tr>\n",
       "    <tr>\n",
       "      <th>Asia</th>\n",
       "      <td>82.603</td>\n",
       "      <td>28.801</td>\n",
       "      <td>113523.13290</td>\n",
       "      <td>331.000000</td>\n",
       "    </tr>\n",
       "    <tr>\n",
       "      <th>Europe</th>\n",
       "      <td>81.757</td>\n",
       "      <td>43.585</td>\n",
       "      <td>49357.19017</td>\n",
       "      <td>973.533195</td>\n",
       "    </tr>\n",
       "    <tr>\n",
       "      <th>Oceania</th>\n",
       "      <td>81.235</td>\n",
       "      <td>69.120</td>\n",
       "      <td>34435.36744</td>\n",
       "      <td>10039.595640</td>\n",
       "    </tr>\n",
       "  </tbody>\n",
       "</table>\n",
       "</div>"
      ],
      "text/plain": [
       "          lifeExp             gdpPercap              \n",
       "              max     min           max           min\n",
       "continent                                            \n",
       "Africa     76.442  23.599   21951.21176    241.165876\n",
       "Americas   80.653  37.579   42951.65309   1201.637154\n",
       "Asia       82.603  28.801  113523.13290    331.000000\n",
       "Europe     81.757  43.585   49357.19017    973.533195\n",
       "Oceania    81.235  69.120   34435.36744  10039.595640"
      ]
     },
     "execution_count": 44,
     "metadata": {},
     "output_type": "execute_result"
    }
   ],
   "source": [
    "df.groupby(\"continent\")[[\"lifeExp\",\"gdpPercap\"]].agg([\"max\",\"min\"])"
   ]
  },
  {
   "cell_type": "code",
   "execution_count": 45,
   "id": "52eaac02",
   "metadata": {},
   "outputs": [
    {
     "name": "stdout",
     "output_type": "stream",
     "text": [
      "year\n",
      "1952    49.057620\n",
      "1957    51.507401\n",
      "1962    53.609249\n",
      "1967    55.678290\n",
      "1972    57.647386\n",
      "1977    59.570157\n",
      "1982    61.533197\n",
      "1987    63.212613\n",
      "1992    64.160338\n",
      "1997    65.014676\n",
      "2002    65.694923\n",
      "2007    67.007423\n",
      "Name: lifeExp, dtype: float64\n"
     ]
    }
   ],
   "source": [
    "print(df.groupby('year')['lifeExp'].mean())"
   ]
  },
  {
   "cell_type": "code",
   "execution_count": 46,
   "id": "1968d535",
   "metadata": {},
   "outputs": [
    {
     "name": "stdout",
     "output_type": "stream",
     "text": [
      "continent\n",
      "Africa       2193.754578\n",
      "Americas     7136.110356\n",
      "Asia         7902.150428\n",
      "Europe      14469.475533\n",
      "Oceania     18621.609223\n",
      "Name: gdpPercap, dtype: float64\n"
     ]
    }
   ],
   "source": [
    "print(df.groupby('continent')[\"gdpPercap\"].mean())"
   ]
  },
  {
   "cell_type": "markdown",
   "id": "d1a83ab7",
   "metadata": {},
   "source": [
    "## Stacked tables -- Very useful for interpreting the wholedataset, is a kind of way of summarizing the data in form of table\n",
    "\n",
    "### Q) Calculate mean Population, LifeExpectancy, GDP per capita of each continent by year"
   ]
  },
  {
   "cell_type": "code",
   "execution_count": 47,
   "id": "9e65bb19",
   "metadata": {},
   "outputs": [
    {
     "name": "stdout",
     "output_type": "stream",
     "text": [
      "                  lifeExp     gdpPercap\n",
      "year continent                         \n",
      "1952 Africa     39.135500   1252.572466\n",
      "     Americas   53.279840   4079.062552\n",
      "     Asia       46.314394   5195.484004\n",
      "     Europe     64.408500   5661.057435\n",
      "     Oceania    69.255000  10298.085650\n",
      "1957 Africa     41.266346   1385.236062\n",
      "     Americas   55.960280   4616.043733\n",
      "     Asia       49.318544   5787.732940\n",
      "     Europe     66.703067   6963.012816\n",
      "     Oceania    70.295000  11598.522455\n",
      "1962 Africa     43.319442   1598.078825\n",
      "     Americas   58.398760   4901.541870\n",
      "     Asia       51.563223   5729.369625\n",
      "     Europe     68.539233   8365.486814\n",
      "     Oceania    71.085000  12696.452430\n",
      "1967 Africa     45.334538   2050.363801\n",
      "     Americas   60.410920   5668.253496\n",
      "     Asia       54.663640   5971.173374\n",
      "     Europe     69.737600  10143.823757\n",
      "     Oceania    71.310000  14495.021790\n",
      "1972 Africa     47.450942   2339.615674\n",
      "     Americas   62.394920   6491.334139\n",
      "     Asia       57.319269   8187.468699\n",
      "     Europe     70.775033  12479.575246\n",
      "     Oceania    71.910000  16417.333380\n",
      "1977 Africa     49.580423   2585.938508\n",
      "     Americas   64.391560   7352.007126\n",
      "     Asia       59.610556   7791.314020\n",
      "     Europe     71.937767  14283.979110\n",
      "     Oceania    72.855000  17283.957605\n",
      "1982 Africa     51.592865   2481.592960\n",
      "     Americas   66.228840   7506.737088\n",
      "     Asia       62.617939   7434.135157\n",
      "     Europe     72.806400  15617.896551\n",
      "     Oceania    74.290000  18554.709840\n",
      "1987 Africa     53.344788   2282.668991\n",
      "     Americas   68.090720   7793.400261\n",
      "     Asia       64.851182   7608.226508\n",
      "     Europe     73.642167  17214.310727\n",
      "     Oceania    75.320000  20448.040160\n",
      "1992 Africa     53.629577   2281.810333\n",
      "     Americas   69.568360   8044.934406\n",
      "     Asia       66.537212   8639.690248\n",
      "     Europe     74.440100  17061.568084\n",
      "     Oceania    76.945000  20894.045885\n",
      "1997 Africa     53.598269   2378.759555\n",
      "     Americas   71.150480   8889.300863\n",
      "     Asia       68.020515   9834.093295\n",
      "     Europe     75.505167  19076.781802\n",
      "     Oceania    78.190000  24024.175170\n",
      "2002 Africa     53.325231   2599.385159\n",
      "     Americas   72.422040   9287.677107\n",
      "     Asia       69.233879  10174.090397\n",
      "     Europe     76.700600  21711.732422\n",
      "     Oceania    79.740000  26938.778040\n",
      "2007 Africa     54.806038   3089.032605\n",
      "     Americas   73.608120  11003.031625\n",
      "     Asia       70.728485  12473.026870\n",
      "     Europe     77.648600  25054.481636\n",
      "     Oceania    80.719500  29810.188275\n"
     ]
    }
   ],
   "source": [
    "multi_group_var = df.groupby([\"year\",\"continent\"])[[\"lifeExp\", \"gdpPercap\"]].mean()\n",
    "print(multi_group_var)   # Can use \" \\ \" to keep code readable"
   ]
  },
  {
   "cell_type": "markdown",
   "id": "53f2265b",
   "metadata": {},
   "source": [
    "### Note :- Whenever we are selecting multiple columns from the DataFrame to group by it is necessary that we use those columns as a list\n",
    "\n",
    "## To falten the dataset we can use reset_index() method"
   ]
  },
  {
   "cell_type": "code",
   "execution_count": 48,
   "id": "5fe41b34",
   "metadata": {},
   "outputs": [
    {
     "name": "stdout",
     "output_type": "stream",
     "text": [
      "    year continent    lifeExp     gdpPercap\n",
      "0   1952    Africa  39.135500   1252.572466\n",
      "1   1952  Americas  53.279840   4079.062552\n",
      "2   1952      Asia  46.314394   5195.484004\n",
      "3   1952    Europe  64.408500   5661.057435\n",
      "4   1952   Oceania  69.255000  10298.085650\n",
      "5   1957    Africa  41.266346   1385.236062\n",
      "6   1957  Americas  55.960280   4616.043733\n",
      "7   1957      Asia  49.318544   5787.732940\n",
      "8   1957    Europe  66.703067   6963.012816\n",
      "9   1957   Oceania  70.295000  11598.522455\n",
      "10  1962    Africa  43.319442   1598.078825\n",
      "11  1962  Americas  58.398760   4901.541870\n",
      "12  1962      Asia  51.563223   5729.369625\n",
      "13  1962    Europe  68.539233   8365.486814\n",
      "14  1962   Oceania  71.085000  12696.452430\n"
     ]
    }
   ],
   "source": [
    "flat_data = multi_group_var.reset_index()\n",
    "print(flat_data.head(15))"
   ]
  },
  {
   "cell_type": "markdown",
   "id": "893f7598",
   "metadata": {},
   "source": [
    "## To save the manipulated data in form of excel"
   ]
  },
  {
   "cell_type": "code",
   "execution_count": null,
   "id": "8cceb5a5",
   "metadata": {},
   "outputs": [],
   "source": [
    "# flat_data.to_excel(\"continents.xlsx\")"
   ]
  },
  {
   "cell_type": "markdown",
   "id": "b7f0e16b",
   "metadata": {},
   "source": [
    "## The above kind of command is data manipulating and can be used for further analysis"
   ]
  },
  {
   "cell_type": "markdown",
   "id": "f5ff2847",
   "metadata": {},
   "source": [
    "## Grouped Frequency count"
   ]
  },
  {
   "cell_type": "code",
   "execution_count": 49,
   "id": "a3dbfdee",
   "metadata": {},
   "outputs": [
    {
     "name": "stdout",
     "output_type": "stream",
     "text": [
      "continent\n",
      "Africa      52\n",
      "Americas    25\n",
      "Asia        33\n",
      "Europe      30\n",
      "Oceania      2\n",
      "Name: country, dtype: int64\n"
     ]
    }
   ],
   "source": [
    "print(df.groupby('continent')['country'].nunique()) # It tells up unique countries of all continents in data set"
   ]
  },
  {
   "cell_type": "markdown",
   "id": "b9e9b977",
   "metadata": {},
   "source": [
    "## Basic plot"
   ]
  },
  {
   "cell_type": "code",
   "execution_count": 50,
   "id": "d14c536b",
   "metadata": {},
   "outputs": [
    {
     "name": "stdout",
     "output_type": "stream",
     "text": [
      "year\n",
      "1952    49.057620\n",
      "1957    51.507401\n",
      "1962    53.609249\n",
      "1967    55.678290\n",
      "1972    57.647386\n",
      "1977    59.570157\n",
      "1982    61.533197\n",
      "1987    63.212613\n",
      "1992    64.160338\n",
      "1997    65.014676\n",
      "2002    65.694923\n",
      "2007    67.007423\n",
      "Name: lifeExp, dtype: float64\n"
     ]
    }
   ],
   "source": [
    "global_yearly_life_expectancy = df.groupby('year')['lifeExp'].mean()\n",
    "print(global_yearly_life_expectancy)"
   ]
  },
  {
   "cell_type": "code",
   "execution_count": 51,
   "id": "5cfda9f7",
   "metadata": {},
   "outputs": [
    {
     "name": "stdout",
     "output_type": "stream",
     "text": [
      "Axes(0.125,0.11;0.775x0.77)\n"
     ]
    },
    {
     "data": {
      "image/png": "[encoded data removed]",
      "text/plain": [
       "<Figure size 640x480 with 1 Axes>"
      ]
     },
     "metadata": {},
     "output_type": "display_data"
    }
   ],
   "source": [
    "print(global_yearly_life_expectancy.plot())"
   ]
  },
  {
   "cell_type": "code",
   "execution_count": 52,
   "id": "e52d550f",
   "metadata": {},
   "outputs": [
    {
     "data": {
      "image/png": "[encoded data removed]",
      "text/plain": [
       "<Figure size 640x480 with 1 Axes>"
      ]
     },
     "metadata": {},
     "output_type": "display_data"
    }
   ],
   "source": [
    "x = flat_data[\"continent\"]\n",
    "y = flat_data[\"gdpPercap\"]\n",
    "plt.bar(x,y)\n",
    "plt.title(\"Gdp per capita of continents\")\n",
    "plt.ylabel(\"GDP per capita\")\n",
    "plt.show()"
   ]
  }
 ],
 "metadata": {
  "kernelspec": {
   "display_name": "Python 3 (ipykernel)",
   "language": "python",
   "name": "python3"
  },
  "language_info": {
   "codemirror_mode": {
    "name": "ipython",
    "version": 3
   },
   "file_extension": ".py",
   "mimetype": "text/x-python",
   "name": "python",
   "nbconvert_exporter": "python",
   "pygments_lexer": "ipython3",
   "version": "3.11.3"
  }
 },
 "nbformat": 4,
 "nbformat_minor": 5
}
